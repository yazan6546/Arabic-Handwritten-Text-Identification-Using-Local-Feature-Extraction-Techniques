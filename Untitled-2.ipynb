{
 "cells": [
  {
   "cell_type": "markdown",
   "metadata": {},
   "source": [
    "# Feature Extraction and Transformation Pipeline\n",
    "\n",
    "This notebook demonstrates the process of feature extraction, clustering, histogram creation, and IDF computation using custom transformers and pipelines."
   ]
  },
  {
   "cell_type": "code",
   "execution_count": 24,
   "metadata": {},
   "outputs": [],
   "source": [
    "import os\n",
    "import cv2\n",
    "import pandas as pd\n",
    "import numpy as np\n",
    "from sklearn.preprocessing import LabelEncoder\n",
    "from sklearn.model_selection import train_test_split\n",
    "from sklearn.pipeline import Pipeline\n",
    "from sklearn.preprocessing import FunctionTransformer\n",
    "from classes.feature_extractor import FeatureExtractor\n",
    "from classes.clusterer import Clusterer\n",
    "from classes.idf_transformer import IDFTransformer\n",
    "import joblib\n",
    "import matplotlib.pyplot as plt"
   ]
  },
  {
   "cell_type": "markdown",
   "metadata": {},
   "source": [
    "## Data Preparation\n",
    "\n",
    "Load images, create a DataFrame, encode labels, and split the data into training and testing sets."
   ]
  },
  {
   "cell_type": "code",
   "execution_count": 3,
   "metadata": {},
   "outputs": [],
   "source": [
    "# Function to load images from a directory\n",
    "def load_images_from_directory(directory):\n",
    "    data = []\n",
    "    for root, _, files in os.walk(directory):\n",
    "        for filename in files:\n",
    "            if filename.endswith(\".jpg\") or filename.endswith(\".png\"):\n",
    "                img = cv2.imread(os.path.join(root, filename), cv2.IMREAD_GRAYSCALE)\n",
    "                if img is not None:\n",
    "                    data.append({'filename': filename, 'image': img})\n",
    "    return data\n"
   ]
  },
  {
   "cell_type": "code",
   "execution_count": 4,
   "metadata": {},
   "outputs": [],
   "source": [
    "# Specify the directory containing images\n",
    "image_directory = 'data/preprocessed'\n",
    "\n",
    "# Load images\n",
    "images_data = load_images_from_directory(image_directory)\n",
    "\n",
    "# Convert to DataFrame\n",
    "df = pd.DataFrame(images_data)\n",
    "df.set_index('filename', inplace=True)\n",
    "df['Target'] = df.index.map(lambda x: x.split('_')[0])\n",
    "\n",
    "# Encode the labels\n",
    "label_encoder = LabelEncoder()\n",
    "df['Target'] = label_encoder.fit_transform(df['Target'])\n",
    "\n",
    "# Split the data into training and testing sets\n",
    "train_df, test_df = train_test_split(df, test_size=0.2, random_state=42)"
   ]
  },
  {
   "cell_type": "markdown",
   "metadata": {},
   "source": [
    "## Define the Pipelines\n",
    "\n",
    "Create separate pipelines for ORB and SIFT that include all the steps."
   ]
  },
  {
   "cell_type": "code",
   "execution_count": 6,
   "metadata": {},
   "outputs": [],
   "source": [
    "# Function to extract images from DataFrame\n",
    "def extract_images(df):\n",
    "    return df['image']\n",
    "\n",
    "# Create the pipeline for ORB\n",
    "pipeline_ORB = Pipeline([\n",
    "    ('extract_images', FunctionTransformer(extract_images, validate=False)),\n",
    "    ('feature_extractor', FeatureExtractor(method='ORB')),\n",
    "    ('clusterer', Clusterer(num_clusters=100)),\n",
    "    ('idf_transformer', IDFTransformer())\n",
    "])\n",
    "\n",
    "# Create the pipeline for SIFT\n",
    "pipeline_SIFT = Pipeline([\n",
    "    ('extract_images', FunctionTransformer(extract_images, validate=False)),\n",
    "    ('feature_extractor', FeatureExtractor(method='SIFT')),\n",
    "    ('clusterer', Clusterer(num_clusters=100)),\n",
    "    ('idf_transformer', IDFTransformer())\n",
    "])"
   ]
  },
  {
   "cell_type": "markdown",
   "metadata": {},
   "source": [
    "## Transform the Data and Add Histograms to DataFrame\n",
    "\n",
    "Use the pipelines to fit and transform the training data, and add the resulting histograms back into the DataFrame."
   ]
  },
  {
   "cell_type": "code",
   "execution_count": 7,
   "metadata": {},
   "outputs": [
    {
     "name": "stdout",
     "output_type": "stream",
     "text": [
      "DataFrame with ORB and SIFT Histograms:\n",
      "                                                                     image  \\\n",
      "filename                                                                     \n",
      "user002_azan_004.png     [[255, 255, 255, 255, 255, 255, 255, 255, 255,...   \n",
      "user023_qashtah_023.png  [[255, 255, 255, 255, 255, 255, 255, 255, 255,...   \n",
      "user022_ghazaal_007.png  [[255, 255, 255, 255, 255, 255, 255, 255, 255,...   \n",
      "user018_mehras_042.png   [[255, 255, 255, 255, 255, 255, 255, 255, 255,...   \n",
      "user014_ghaleez_019.png  [[255, 255, 255, 255, 255, 255, 255, 255, 255,...   \n",
      "\n",
      "                         Target  \\\n",
      "filename                          \n",
      "user002_azan_004.png          1   \n",
      "user023_qashtah_023.png      22   \n",
      "user022_ghazaal_007.png      21   \n",
      "user018_mehras_042.png       17   \n",
      "user014_ghaleez_019.png      13   \n",
      "\n",
      "                                                         histogram_ORB_IDF  \\\n",
      "filename                                                                     \n",
      "user002_azan_004.png     [3.7297710011734138, 1.1186466681480969, 3.383...   \n",
      "user023_qashtah_023.png  [6.216285001955689, 1.1186466681480969, 5.6383...   \n",
      "user022_ghazaal_007.png  [1.2432570003911378, 4.4745866725923875, 7.893...   \n",
      "user018_mehras_042.png   [2.4865140007822757, 0.0, 14.65974822206004, 1...   \n",
      "user014_ghaleez_019.png  [3.7297710011734138, 1.1186466681480969, 2.255...   \n",
      "\n",
      "                                                        histogram_SIFT_IDF  \n",
      "filename                                                                    \n",
      "user002_azan_004.png     [0.0, 0.0, 0.0, 0.0, 0.0, 0.0, 1.4456254891303...  \n",
      "user023_qashtah_023.png  [1.8009662100559791, 3.660695684933469, 0.0, 1...  \n",
      "user022_ghazaal_007.png  [0.0, 3.660695684933469, 0.0, 0.0, 3.609467965...  \n",
      "user018_mehras_042.png   [0.0, 9.761855159822584, 0.0, 1.73258891261124...  \n",
      "user014_ghaleez_019.png  [0.0, 0.0, 5.493494740881678, 0.0, 3.609467965...  \n"
     ]
    }
   ],
   "source": [
    "# Fit and transform the data using the ORB pipeline\n",
    "orb_histograms = pipeline_ORB.fit_transform(train_df)\n",
    "\n",
    "# Fit and transform the data using the SIFT pipeline\n",
    "sift_histograms = pipeline_SIFT.fit_transform(train_df)\n",
    "\n",
    "# Add the resulting histograms back into the DataFrame\n",
    "train_df['histogram_ORB_IDF'] = list(orb_histograms)\n",
    "train_df['histogram_SIFT_IDF'] = list(sift_histograms)\n",
    "\n",
    "# Print the resulting DataFrame with histograms\n",
    "print(\"DataFrame with ORB and SIFT Histograms:\")\n",
    "print(train_df.head())"
   ]
  },
  {
   "cell_type": "code",
   "execution_count": 23,
   "metadata": {},
   "outputs": [
    {
     "data": {
      "text/plain": [
       "['models/sift_histograms.joblib']"
      ]
     },
     "execution_count": 23,
     "metadata": {},
     "output_type": "execute_result"
    }
   ],
   "source": [
    "joblib.dump(orb_histograms, 'models/orb_histograms.joblib')\n",
    "joblib.dump(sift_histograms, 'models/sift_histograms.joblib')"
   ]
  },
  {
   "cell_type": "code",
   "execution_count": 26,
   "metadata": {},
   "outputs": [
    {
     "data": {
      "image/png": "[encoded data removed]",
      "text/plain": [
       "<Figure size 640x480 with 1 Axes>"
      ]
     },
     "metadata": {},
     "output_type": "display_data"
    }
   ],
   "source": [
    "# Display the first histogram to verify\n",
    "if not train_df.empty:\n",
    "    first_user = train_df.index[1]\n",
    "    first_histogram = train_df.iloc[1]['histogram_ORB_IDF']\n",
    "    plt.bar(range(100), first_histogram)\n",
    "    plt.title(f'Visual Words Histogram for User: {first_user}')\n",
    "    plt.xlabel('Visual Word Index')\n",
    "    plt.ylabel('Frequency')\n",
    "    plt.show()"
   ]
  }
 ],
 "metadata": {
  "kernelspec": {
   "display_name": "Python 3",
   "language": "python",
   "name": "python3"
  },
  "language_info": {
   "codemirror_mode": {
    "name": "ipython",
    "version": 3
   },
   "file_extension": ".py",
   "mimetype": "text/x-python",
   "name": "python",
   "nbconvert_exporter": "python",
   "pygments_lexer": "ipython3",
   "version": "3.12.1"
  }
 },
 "nbformat": 4,
 "nbformat_minor": 4
}
