{
 "cells": [
  {
   "cell_type": "markdown",
   "metadata": {},
   "source": [
    "# Import Required Libraries\n",
    "Import the necessary libraries, including OpenCV and matplotlib."
   ]
  },
  {
   "cell_type": "code",
   "execution_count": 1,
   "metadata": {},
   "outputs": [],
   "source": [
    "# Import Required Libraries\n",
    "import cv2  # OpenCV for computer vision tasks\n",
    "import matplotlib.pyplot as plt  # Matplotlib for plotting images\n",
    "import os  # OS module for file operations\n",
    "import pandas as pd\n",
    "import numpy as np\n",
    "import utils  # Custom utility functions\n"
   ]
  },
  {
   "cell_type": "markdown",
   "metadata": {},
   "source": [
    "# Changing the structure of the dataset files"
   ]
  },
  {
   "cell_type": "code",
   "execution_count": 2,
   "metadata": {},
   "outputs": [
    {
     "ename": "FileNotFoundError",
     "evalue": "Source directory data/isolated_words_per_user",
     "output_type": "error",
     "traceback": [
      "\u001b[0;31m---------------------------------------------------------------------------\u001b[0m",
      "\u001b[0;31mFileNotFoundError\u001b[0m                         Traceback (most recent call last)",
      "Cell \u001b[0;32mIn[2], line 6\u001b[0m\n\u001b[1;32m      3\u001b[0m target_directory \u001b[38;5;241m=\u001b[39m os\u001b[38;5;241m.\u001b[39mpath\u001b[38;5;241m.\u001b[39mjoin(\u001b[38;5;124m'\u001b[39m\u001b[38;5;124mdata\u001b[39m\u001b[38;5;124m'\u001b[39m, \u001b[38;5;124m'\u001b[39m\u001b[38;5;124moriginal\u001b[39m\u001b[38;5;124m'\u001b[39m)\n\u001b[1;32m      5\u001b[0m \u001b[38;5;66;03m# Collect images\u001b[39;00m\n\u001b[0;32m----> 6\u001b[0m \u001b[43mutils\u001b[49m\u001b[38;5;241;43m.\u001b[39;49m\u001b[43mcollect_images_and_copy_to_original\u001b[49m\u001b[43m(\u001b[49m\u001b[43msource_directory\u001b[49m\u001b[43m,\u001b[49m\u001b[43m \u001b[49m\u001b[43mtarget_directory\u001b[49m\u001b[43m)\u001b[49m\n",
      "File \u001b[0;32m/workspaces/Arabic-Handwritten-Text-Identification-Using-Local-Feature-Extraction-Techniques/utils.py:28\u001b[0m, in \u001b[0;36mcollect_images_and_copy_to_original\u001b[0;34m(source_directory, target_directory)\u001b[0m\n\u001b[1;32m     25\u001b[0m     os\u001b[38;5;241m.\u001b[39mmakedirs(target_directory)\n\u001b[1;32m     27\u001b[0m \u001b[38;5;28;01mif\u001b[39;00m \u001b[38;5;129;01mnot\u001b[39;00m os\u001b[38;5;241m.\u001b[39mpath\u001b[38;5;241m.\u001b[39mexists(source_directory):\n\u001b[0;32m---> 28\u001b[0m     \u001b[38;5;28;01mraise\u001b[39;00m \u001b[38;5;167;01mFileNotFoundError\u001b[39;00m(\u001b[38;5;124mf\u001b[39m\u001b[38;5;124m\"\u001b[39m\u001b[38;5;124mSource directory \u001b[39m\u001b[38;5;132;01m{\u001b[39;00msource_directory\u001b[38;5;132;01m}\u001b[39;00m\u001b[38;5;124m\"\u001b[39m)\n\u001b[1;32m     30\u001b[0m \u001b[38;5;66;03m# Traverse all directories in the source directory\u001b[39;00m\n\u001b[1;32m     31\u001b[0m \u001b[38;5;28;01mfor\u001b[39;00m root, dirs, files \u001b[38;5;129;01min\u001b[39;00m os\u001b[38;5;241m.\u001b[39mwalk(source_directory, topdown\u001b[38;5;241m=\u001b[39m\u001b[38;5;28;01mFalse\u001b[39;00m):\n",
      "\u001b[0;31mFileNotFoundError\u001b[0m: Source directory data/isolated_words_per_user"
     ]
    }
   ],
   "source": [
    "# Specify the source and target directories\n",
    "source_directory = os.path.join('data', 'isolated_words_per_user')\n",
    "target_directory = os.path.join('data', 'original')\n",
    "\n",
    "# Collect images\n",
    "utils.collect_images_and_copy_to_original(source_directory, target_directory)"
   ]
  },
  {
   "cell_type": "code",
   "execution_count": 2,
   "metadata": {},
   "outputs": [],
   "source": [
    "# Specify the source and target directories\n",
    "source_directory = os.path.join('data', 'original')\n",
    "target_directory = os.path.join('data', 'preprocessed')\n",
    "\n",
    "# Preprocess images\n",
    "utils.preprocess_images(source_directory, target_directory)\n",
    "\n"
   ]
  },
  {
   "cell_type": "markdown",
   "metadata": {},
   "source": [
    "# Load Images from File\n",
    "Load the images from the specified file directory."
   ]
  },
  {
   "cell_type": "code",
   "execution_count": 2,
   "metadata": {},
   "outputs": [
    {
     "data": {
      "image/png": "[encoded data removed]",
      "text/plain": [
       "<Figure size 640x480 with 1 Axes>"
      ]
     },
     "metadata": {},
     "output_type": "display_data"
    }
   ],
   "source": [
    "\n",
    "# Load Images from File\n",
    "def load_images_from_directory(directory, target_size=(256, 128)):\n",
    "    data = []\n",
    "    for root, _, files in os.walk(directory):\n",
    "            \n",
    "        for filename in files:\n",
    "            if filename.endswith(\".jpg\") or filename.endswith(\".png\"):\n",
    "                img = cv2.imread(os.path.join(root, filename), cv2.IMREAD_GRAYSCALE)\n",
    "                if img is not None:\n",
    "                            \n",
    "                    data.append({'filename': filename, 'image': img})\n",
    "    return data\n",
    "\n",
    "# Specify the directory containing images\n",
    "image_directory = os.path.join('data', 'preprocessed')\n",
    "\n",
    "# Load images\n",
    "images_data = load_images_from_directory(image_directory)\n",
    "\n",
    "# Convert to DataFrame\n",
    "df = pd.DataFrame(images_data)\n",
    "df.set_index('filename', inplace=True)\n",
    "df['Target'] = df.index.map(lambda x: x.split('_')[0])\n",
    "\n",
    "# Display the first image to verify\n",
    "if not df.empty:\n",
    "    first_user = df['Target'].iloc[0]\n",
    "    first_image = df.iloc[0]['image']\n",
    "    plt.imshow(first_image, cmap='gray')\n",
    "    plt.title(f'First Loaded Image for User: {first_user}')\n",
    "    plt.show()"
   ]
  },
  {
   "cell_type": "code",
   "execution_count": 6,
   "metadata": {},
   "outputs": [
    {
     "data": {
      "text/plain": [
       "image     [[255, 255, 255, 255, 255, 255, 255, 255, 255,...\n",
       "Target                                              user064\n",
       "Name: user064_qashtah_029.png, dtype: object"
      ]
     },
     "execution_count": 6,
     "metadata": {},
     "output_type": "execute_result"
    }
   ],
   "source": [
    "df.iloc[0]"
   ]
  },
  {
   "cell_type": "code",
   "execution_count": 3,
   "metadata": {},
   "outputs": [
    {
     "name": "stdout",
     "output_type": "stream",
     "text": [
      "<class 'pandas.core.frame.DataFrame'>\n",
      "Index: 8144 entries, user064_qashtah_029.png to user020_shateerah_032.png\n",
      "Data columns (total 2 columns):\n",
      " #   Column  Non-Null Count  Dtype \n",
      "---  ------  --------------  ----- \n",
      " 0   image   8144 non-null   object\n",
      " 1   Target  8144 non-null   object\n",
      "dtypes: object(2)\n",
      "memory usage: 190.9+ KB\n"
     ]
    }
   ],
   "source": [
    "df.info()"
   ]
  },
  {
   "cell_type": "markdown",
   "metadata": {},
   "source": [
    "# Initialize ORB Detector\n",
    "Initialize the ORB detector using OpenCV."
   ]
  },
  {
   "cell_type": "code",
   "execution_count": 3,
   "metadata": {},
   "outputs": [],
   "source": [
    "# Initialize ORB Detector with custom parameters\n",
    "orb = cv2.ORB_create(\n",
    "    nfeatures=750,\n",
    "    scaleFactor=1.2,\n",
    "    nlevels=8,\n",
    "    edgeThreshold=15,\n",
    "    firstLevel=0,\n",
    "    WTA_K=2,\n",
    "    scoreType=cv2.ORB_HARRIS_SCORE,\n",
    "    patchSize=15,\n",
    "    fastThreshold=10\n",
    ")\n",
    "\n",
    "# Initialize SIFT with adjusted parameters for text identification\n",
    "sift = cv2.SIFT_create(\n",
    "    nfeatures=0,\n",
    "    nOctaveLayers=3,\n",
    "    contrastThreshold=0.01,\n",
    "    edgeThreshold=15,\n",
    "    sigma=1.2\n",
    ")"
   ]
  },
  {
   "cell_type": "markdown",
   "metadata": {},
   "source": [
    "# Apply ORB to Each Image\n",
    "Apply the ORB detector to each image to find keypoints and descriptors."
   ]
  },
  {
   "cell_type": "code",
   "execution_count": 8,
   "metadata": {},
   "outputs": [],
   "source": [
    "# Apply ORB to Each Image and store keypoints and descriptors\n",
    "\n",
    "\n",
    "def extract_orb_features(image):\n",
    "    _, descriptors = orb.detectAndCompute(image, None)\n",
    "    return descriptors\n",
    "\n",
    "def extract_sift_features(image):\n",
    "    _, descriptors = sift.detectAndCompute(image, None)\n",
    "    return descriptors\n",
    "\n",
    "# Apply the function to each row in the DataFrame\n",
    "df['descriptors_ORB'] = df['image'].apply(extract_orb_features)\n",
    "df['descriptors_SIFT'] = df['image'].apply(extract_sift_features)\n",
    "\n"
   ]
  },
  {
   "cell_type": "code",
   "execution_count": 9,
   "metadata": {},
   "outputs": [
    {
     "name": "stdout",
     "output_type": "stream",
     "text": [
      "<class 'pandas.core.frame.DataFrame'>\n",
      "Index: 8144 entries, user064_qashtah_029.png to user020_shateerah_032.png\n",
      "Data columns (total 4 columns):\n",
      " #   Column            Non-Null Count  Dtype \n",
      "---  ------            --------------  ----- \n",
      " 0   image             8144 non-null   object\n",
      " 1   Target            8144 non-null   object\n",
      " 2   descriptors_ORB   8144 non-null   object\n",
      " 3   descriptors_SIFT  8144 non-null   object\n",
      "dtypes: object(4)\n",
      "memory usage: 318.1+ KB\n"
     ]
    }
   ],
   "source": [
    "df.info()"
   ]
  },
  {
   "cell_type": "code",
   "execution_count": 7,
   "metadata": {},
   "outputs": [],
   "source": [
    "# Display the first image's keypoints to verify\n",
    "\n",
    "def display_image_with_keypoints(index):\n",
    "    if not df.empty:\n",
    "\n",
    "        first_user = df['Target'].iloc[index]\n",
    "        first_keypoints = df.iloc[index]['keypoints']\n",
    "        first_image = cv2.drawKeypoints(df.iloc[index]['image'], first_keypoints, None, color=(0, 255, 0), flags=0)\n",
    "        plt.imshow(first_image, cmap='gray')\n",
    "        plt.title(f'Image Keypoints for User: {first_user}')\n",
    "        plt.show()"
   ]
  },
  {
   "cell_type": "code",
   "execution_count": 5,
   "metadata": {},
   "outputs": [
    {
     "data": {
      "text/html": [
       "<div>\n",
       "<style scoped>\n",
       "    .dataframe tbody tr th:only-of-type {\n",
       "        vertical-align: middle;\n",
       "    }\n",
       "\n",
       "    .dataframe tbody tr th {\n",
       "        vertical-align: top;\n",
       "    }\n",
       "\n",
       "    .dataframe thead th {\n",
       "        text-align: right;\n",
       "    }\n",
       "</style>\n",
       "<table border=\"1\" class=\"dataframe\">\n",
       "  <thead>\n",
       "    <tr style=\"text-align: right;\">\n",
       "      <th></th>\n",
       "      <th>image</th>\n",
       "      <th>Target</th>\n",
       "      <th>descriptors_ORB</th>\n",
       "    </tr>\n",
       "    <tr>\n",
       "      <th>filename</th>\n",
       "      <th></th>\n",
       "      <th></th>\n",
       "      <th></th>\n",
       "    </tr>\n",
       "  </thead>\n",
       "  <tbody>\n",
       "    <tr>\n",
       "      <th>user064_qashtah_029.png</th>\n",
       "      <td>[[255, 255, 255, 255, 255, 255, 255, 255, 255,...</td>\n",
       "      <td>user064</td>\n",
       "      <td>[[34, 64, 33, 178, 142, 120, 99, 9, 42, 53, 52...</td>\n",
       "    </tr>\n",
       "    <tr>\n",
       "      <th>user035_ghaleez_011.png</th>\n",
       "      <td>[[255, 255, 255, 255, 255, 255, 255, 255, 255,...</td>\n",
       "      <td>user035</td>\n",
       "      <td>[[186, 82, 225, 190, 142, 152, 114, 173, 130, ...</td>\n",
       "    </tr>\n",
       "    <tr>\n",
       "      <th>user051_ghazaal_009.png</th>\n",
       "      <td>[[255, 255, 255, 255, 255, 255, 255, 255, 255,...</td>\n",
       "      <td>user051</td>\n",
       "      <td>[[186, 66, 77, 158, 78, 248, 114, 17, 34, 7, 4...</td>\n",
       "    </tr>\n",
       "    <tr>\n",
       "      <th>user081_mehras_046.png</th>\n",
       "      <td>[[255, 255, 255, 255, 255, 255, 255, 255, 255,...</td>\n",
       "      <td>user081</td>\n",
       "      <td>[[155, 202, 93, 182, 14, 106, 99, 1, 123, 33, ...</td>\n",
       "    </tr>\n",
       "    <tr>\n",
       "      <th>user037_sakhar_017.png</th>\n",
       "      <td>[[255, 255, 255, 255, 255, 255, 255, 255, 255,...</td>\n",
       "      <td>user037</td>\n",
       "      <td>[[154, 194, 95, 15, 110, 200, 114, 21, 98, 3, ...</td>\n",
       "    </tr>\n",
       "  </tbody>\n",
       "</table>\n",
       "</div>"
      ],
      "text/plain": [
       "                                                                     image  \\\n",
       "filename                                                                     \n",
       "user064_qashtah_029.png  [[255, 255, 255, 255, 255, 255, 255, 255, 255,...   \n",
       "user035_ghaleez_011.png  [[255, 255, 255, 255, 255, 255, 255, 255, 255,...   \n",
       "user051_ghazaal_009.png  [[255, 255, 255, 255, 255, 255, 255, 255, 255,...   \n",
       "user081_mehras_046.png   [[255, 255, 255, 255, 255, 255, 255, 255, 255,...   \n",
       "user037_sakhar_017.png   [[255, 255, 255, 255, 255, 255, 255, 255, 255,...   \n",
       "\n",
       "                          Target  \\\n",
       "filename                           \n",
       "user064_qashtah_029.png  user064   \n",
       "user035_ghaleez_011.png  user035   \n",
       "user051_ghazaal_009.png  user051   \n",
       "user081_mehras_046.png   user081   \n",
       "user037_sakhar_017.png   user037   \n",
       "\n",
       "                                                           descriptors_ORB  \n",
       "filename                                                                    \n",
       "user064_qashtah_029.png  [[34, 64, 33, 178, 142, 120, 99, 9, 42, 53, 52...  \n",
       "user035_ghaleez_011.png  [[186, 82, 225, 190, 142, 152, 114, 173, 130, ...  \n",
       "user051_ghazaal_009.png  [[186, 66, 77, 158, 78, 248, 114, 17, 34, 7, 4...  \n",
       "user081_mehras_046.png   [[155, 202, 93, 182, 14, 106, 99, 1, 123, 33, ...  \n",
       "user037_sakhar_017.png   [[154, 194, 95, 15, 110, 200, 114, 21, 98, 3, ...  "
      ]
     },
     "execution_count": 5,
     "metadata": {},
     "output_type": "execute_result"
    }
   ],
   "source": [
    "df.head()"
   ]
  },
  {
   "cell_type": "code",
   "execution_count": 9,
   "metadata": {},
   "outputs": [
    {
     "ename": "KeyError",
     "evalue": "'keypoints'",
     "output_type": "error",
     "traceback": [
      "\u001b[0;31m---------------------------------------------------------------------------\u001b[0m",
      "\u001b[0;31mKeyError\u001b[0m                                  Traceback (most recent call last)",
      "File \u001b[0;32m~/.local/lib/python3.12/site-packages/pandas/core/indexes/base.py:3805\u001b[0m, in \u001b[0;36mIndex.get_loc\u001b[0;34m(self, key)\u001b[0m\n\u001b[1;32m   3804\u001b[0m \u001b[38;5;28;01mtry\u001b[39;00m:\n\u001b[0;32m-> 3805\u001b[0m     \u001b[38;5;28;01mreturn\u001b[39;00m \u001b[38;5;28;43mself\u001b[39;49m\u001b[38;5;241;43m.\u001b[39;49m\u001b[43m_engine\u001b[49m\u001b[38;5;241;43m.\u001b[39;49m\u001b[43mget_loc\u001b[49m\u001b[43m(\u001b[49m\u001b[43mcasted_key\u001b[49m\u001b[43m)\u001b[49m\n\u001b[1;32m   3806\u001b[0m \u001b[38;5;28;01mexcept\u001b[39;00m \u001b[38;5;167;01mKeyError\u001b[39;00m \u001b[38;5;28;01mas\u001b[39;00m err:\n",
      "File \u001b[0;32mindex.pyx:167\u001b[0m, in \u001b[0;36mpandas._libs.index.IndexEngine.get_loc\u001b[0;34m()\u001b[0m\n",
      "File \u001b[0;32mindex.pyx:196\u001b[0m, in \u001b[0;36mpandas._libs.index.IndexEngine.get_loc\u001b[0;34m()\u001b[0m\n",
      "File \u001b[0;32mpandas/_libs/hashtable_class_helper.pxi:7081\u001b[0m, in \u001b[0;36mpandas._libs.hashtable.PyObjectHashTable.get_item\u001b[0;34m()\u001b[0m\n",
      "File \u001b[0;32mpandas/_libs/hashtable_class_helper.pxi:7089\u001b[0m, in \u001b[0;36mpandas._libs.hashtable.PyObjectHashTable.get_item\u001b[0;34m()\u001b[0m\n",
      "\u001b[0;31mKeyError\u001b[0m: 'keypoints'",
      "\nThe above exception was the direct cause of the following exception:\n",
      "\u001b[0;31mKeyError\u001b[0m                                  Traceback (most recent call last)",
      "Cell \u001b[0;32mIn[9], line 1\u001b[0m\n\u001b[0;32m----> 1\u001b[0m \u001b[43mdisplay_image_with_keypoints\u001b[49m\u001b[43m(\u001b[49m\u001b[38;5;241;43m0\u001b[39;49m\u001b[43m)\u001b[49m\n",
      "Cell \u001b[0;32mIn[7], line 7\u001b[0m, in \u001b[0;36mdisplay_image_with_keypoints\u001b[0;34m(index)\u001b[0m\n\u001b[1;32m      4\u001b[0m \u001b[38;5;28;01mif\u001b[39;00m \u001b[38;5;129;01mnot\u001b[39;00m df\u001b[38;5;241m.\u001b[39mempty:\n\u001b[1;32m      6\u001b[0m     first_user \u001b[38;5;241m=\u001b[39m df[\u001b[38;5;124m'\u001b[39m\u001b[38;5;124mTarget\u001b[39m\u001b[38;5;124m'\u001b[39m]\u001b[38;5;241m.\u001b[39miloc[index]\n\u001b[0;32m----> 7\u001b[0m     first_keypoints \u001b[38;5;241m=\u001b[39m \u001b[43mdf\u001b[49m\u001b[38;5;241;43m.\u001b[39;49m\u001b[43miloc\u001b[49m\u001b[43m[\u001b[49m\u001b[43mindex\u001b[49m\u001b[43m]\u001b[49m\u001b[43m[\u001b[49m\u001b[38;5;124;43m'\u001b[39;49m\u001b[38;5;124;43mkeypoints\u001b[39;49m\u001b[38;5;124;43m'\u001b[39;49m\u001b[43m]\u001b[49m\n\u001b[1;32m      8\u001b[0m     first_image \u001b[38;5;241m=\u001b[39m cv2\u001b[38;5;241m.\u001b[39mdrawKeypoints(df\u001b[38;5;241m.\u001b[39miloc[index][\u001b[38;5;124m'\u001b[39m\u001b[38;5;124mimage\u001b[39m\u001b[38;5;124m'\u001b[39m], first_keypoints, \u001b[38;5;28;01mNone\u001b[39;00m, color\u001b[38;5;241m=\u001b[39m(\u001b[38;5;241m0\u001b[39m, \u001b[38;5;241m255\u001b[39m, \u001b[38;5;241m0\u001b[39m), flags\u001b[38;5;241m=\u001b[39m\u001b[38;5;241m0\u001b[39m)\n\u001b[1;32m      9\u001b[0m     plt\u001b[38;5;241m.\u001b[39mimshow(first_image, cmap\u001b[38;5;241m=\u001b[39m\u001b[38;5;124m'\u001b[39m\u001b[38;5;124mgray\u001b[39m\u001b[38;5;124m'\u001b[39m)\n",
      "File \u001b[0;32m~/.local/lib/python3.12/site-packages/pandas/core/series.py:1121\u001b[0m, in \u001b[0;36mSeries.__getitem__\u001b[0;34m(self, key)\u001b[0m\n\u001b[1;32m   1118\u001b[0m     \u001b[38;5;28;01mreturn\u001b[39;00m \u001b[38;5;28mself\u001b[39m\u001b[38;5;241m.\u001b[39m_values[key]\n\u001b[1;32m   1120\u001b[0m \u001b[38;5;28;01melif\u001b[39;00m key_is_scalar:\n\u001b[0;32m-> 1121\u001b[0m     \u001b[38;5;28;01mreturn\u001b[39;00m \u001b[38;5;28;43mself\u001b[39;49m\u001b[38;5;241;43m.\u001b[39;49m\u001b[43m_get_value\u001b[49m\u001b[43m(\u001b[49m\u001b[43mkey\u001b[49m\u001b[43m)\u001b[49m\n\u001b[1;32m   1123\u001b[0m \u001b[38;5;66;03m# Convert generator to list before going through hashable part\u001b[39;00m\n\u001b[1;32m   1124\u001b[0m \u001b[38;5;66;03m# (We will iterate through the generator there to check for slices)\u001b[39;00m\n\u001b[1;32m   1125\u001b[0m \u001b[38;5;28;01mif\u001b[39;00m is_iterator(key):\n",
      "File \u001b[0;32m~/.local/lib/python3.12/site-packages/pandas/core/series.py:1237\u001b[0m, in \u001b[0;36mSeries._get_value\u001b[0;34m(self, label, takeable)\u001b[0m\n\u001b[1;32m   1234\u001b[0m     \u001b[38;5;28;01mreturn\u001b[39;00m \u001b[38;5;28mself\u001b[39m\u001b[38;5;241m.\u001b[39m_values[label]\n\u001b[1;32m   1236\u001b[0m \u001b[38;5;66;03m# Similar to Index.get_value, but we do not fall back to positional\u001b[39;00m\n\u001b[0;32m-> 1237\u001b[0m loc \u001b[38;5;241m=\u001b[39m \u001b[38;5;28;43mself\u001b[39;49m\u001b[38;5;241;43m.\u001b[39;49m\u001b[43mindex\u001b[49m\u001b[38;5;241;43m.\u001b[39;49m\u001b[43mget_loc\u001b[49m\u001b[43m(\u001b[49m\u001b[43mlabel\u001b[49m\u001b[43m)\u001b[49m\n\u001b[1;32m   1239\u001b[0m \u001b[38;5;28;01mif\u001b[39;00m is_integer(loc):\n\u001b[1;32m   1240\u001b[0m     \u001b[38;5;28;01mreturn\u001b[39;00m \u001b[38;5;28mself\u001b[39m\u001b[38;5;241m.\u001b[39m_values[loc]\n",
      "File \u001b[0;32m~/.local/lib/python3.12/site-packages/pandas/core/indexes/base.py:3812\u001b[0m, in \u001b[0;36mIndex.get_loc\u001b[0;34m(self, key)\u001b[0m\n\u001b[1;32m   3807\u001b[0m     \u001b[38;5;28;01mif\u001b[39;00m \u001b[38;5;28misinstance\u001b[39m(casted_key, \u001b[38;5;28mslice\u001b[39m) \u001b[38;5;129;01mor\u001b[39;00m (\n\u001b[1;32m   3808\u001b[0m         \u001b[38;5;28misinstance\u001b[39m(casted_key, abc\u001b[38;5;241m.\u001b[39mIterable)\n\u001b[1;32m   3809\u001b[0m         \u001b[38;5;129;01mand\u001b[39;00m \u001b[38;5;28many\u001b[39m(\u001b[38;5;28misinstance\u001b[39m(x, \u001b[38;5;28mslice\u001b[39m) \u001b[38;5;28;01mfor\u001b[39;00m x \u001b[38;5;129;01min\u001b[39;00m casted_key)\n\u001b[1;32m   3810\u001b[0m     ):\n\u001b[1;32m   3811\u001b[0m         \u001b[38;5;28;01mraise\u001b[39;00m InvalidIndexError(key)\n\u001b[0;32m-> 3812\u001b[0m     \u001b[38;5;28;01mraise\u001b[39;00m \u001b[38;5;167;01mKeyError\u001b[39;00m(key) \u001b[38;5;28;01mfrom\u001b[39;00m \u001b[38;5;21;01merr\u001b[39;00m\n\u001b[1;32m   3813\u001b[0m \u001b[38;5;28;01mexcept\u001b[39;00m \u001b[38;5;167;01mTypeError\u001b[39;00m:\n\u001b[1;32m   3814\u001b[0m     \u001b[38;5;66;03m# If we have a listlike key, _check_indexing_error will raise\u001b[39;00m\n\u001b[1;32m   3815\u001b[0m     \u001b[38;5;66;03m#  InvalidIndexError. Otherwise we fall through and re-raise\u001b[39;00m\n\u001b[1;32m   3816\u001b[0m     \u001b[38;5;66;03m#  the TypeError.\u001b[39;00m\n\u001b[1;32m   3817\u001b[0m     \u001b[38;5;28mself\u001b[39m\u001b[38;5;241m.\u001b[39m_check_indexing_error(key)\n",
      "\u001b[0;31mKeyError\u001b[0m: 'keypoints'"
     ]
    }
   ],
   "source": [
    "display_image_with_keypoints(0)"
   ]
  },
  {
   "cell_type": "code",
   "execution_count": 11,
   "metadata": {},
   "outputs": [
    {
     "name": "stdout",
     "output_type": "stream",
     "text": [
      "<class 'pandas.core.frame.DataFrame'>\n",
      "Index: 8144 entries, user064_qashtah_029.png to user020_shateerah_032.png\n",
      "Data columns (total 4 columns):\n",
      " #   Column            Non-Null Count  Dtype \n",
      "---  ------            --------------  ----- \n",
      " 0   image             8144 non-null   object\n",
      " 1   Target            8144 non-null   object\n",
      " 2   descriptors_ORB   8144 non-null   object\n",
      " 3   descriptors_SIFT  8144 non-null   object\n",
      "dtypes: object(4)\n",
      "memory usage: 318.1+ KB\n"
     ]
    }
   ],
   "source": [
    "df.info()"
   ]
  },
  {
   "cell_type": "code",
   "execution_count": 19,
   "metadata": {},
   "outputs": [],
   "source": [
    "# Function to create histogram of visual words with IDF weighting using NumPy operations\n",
    "def create_histogram(descriptors, kmeans, num_clusters):\n",
    "    if descriptors is None:\n",
    "        return np.zeros(num_clusters)\n",
    "    \n",
    "    clusters = kmeans.predict(descriptors)\n",
    "    histogram, _ = np.histogram(clusters, bins=np.arange(num_clusters + 1))\n",
    "    \n",
    "    return histogram"
   ]
  },
  {
   "cell_type": "code",
   "execution_count": 11,
   "metadata": {},
   "outputs": [],
   "source": [
    "# Extract all descriptors\n",
    "from sklearn.cluster import KMeans\n",
    "\n",
    "\n",
    "\n",
    "# Stack all descriptors vertically in a numpy array\n",
    "all_descriptors_ORB = np.vstack(df['descriptors_ORB'].values)\n",
    "\n",
    "# Stack all descriptors vertically in a numpy array\n",
    "all_descriptors_SIFT = np.vstack(df['descriptors_SIFT'].values)\n"
   ]
  },
  {
   "cell_type": "code",
   "execution_count": 13,
   "metadata": {},
   "outputs": [],
   "source": [
    "num_clusters = 100  # Number of visual words\n"
   ]
  },
  {
   "cell_type": "code",
   "execution_count": null,
   "metadata": {},
   "outputs": [],
   "source": [
    "# Cluster Descriptors using KMeans\n",
    "kmeans_ORB = KMeans(n_clusters=num_clusters, random_state=0)\n",
    "kmeans_SIFT = KMeans(n_clusters=num_clusters, random_state=0)\n",
    "kmeans_ORB.fit(all_descriptors_ORB)\n",
    "kmeans_SIFT.fit(all_descriptors_SIFT)"
   ]
  },
  {
   "cell_type": "code",
   "execution_count": 17,
   "metadata": {},
   "outputs": [
    {
     "data": {
      "text/plain": [
       "['models/kmeans_SIFT_100.joblib']"
      ]
     },
     "execution_count": 17,
     "metadata": {},
     "output_type": "execute_result"
    }
   ],
   "source": [
    "from joblib import dump\n",
    "import os\n",
    "\n",
    "os.makedirs('models', exist_ok=True)\n",
    "\n",
    "# Store kmeans_ORB and kmeans_SIFT models\n",
    "dump(kmeans_ORB, os.path.join('models', 'kmeans_ORB_100.joblib'))\n",
    "dump(kmeans_SIFT, os.path.join('models', 'kmeans_SIFT_100.joblib'))"
   ]
  },
  {
   "cell_type": "code",
   "execution_count": 6,
   "metadata": {},
   "outputs": [],
   "source": [
    "# load the model\n",
    "from joblib import load\n",
    "kmeans_ORB = load(os.path.join('models', 'kmeans_ORB_100.joblib'))\n",
    "kmeans_SIFT = load(os.path.join('models', 'kmeans_SIFT_100.joblib'))"
   ]
  },
  {
   "cell_type": "code",
   "execution_count": 14,
   "metadata": {},
   "outputs": [],
   "source": [
    "\n",
    "\n",
    "# Create histograms for each image\n",
    "df['histogram_ORB'] = df['descriptors_ORB'].apply(lambda descriptors: create_histogram(descriptors, kmeans_ORB, num_clusters)\n",
    ")\n",
    "\n",
    "# Create histograms for each image\n",
    "\n",
    "df['histogram_SIFT'] = df['descriptors_SIFT'].apply(lambda descriptors: create_histogram(descriptors, kmeans_SIFT, num_clusters))"
   ]
  },
  {
   "cell_type": "code",
   "execution_count": 16,
   "metadata": {},
   "outputs": [],
   "source": [
    "histogram_ORB = df['histogram_ORB'].values\n",
    "histogram_SIFT = df['histogram_SIFT'].values\n"
   ]
  },
  {
   "cell_type": "code",
   "execution_count": 17,
   "metadata": {},
   "outputs": [
    {
     "data": {
      "text/plain": [
       "array([array([1., 0., 0., 0., 0., 1., 1., 1., 1., 1., 1., 0., 1., 1., 1., 0., 1.,\n",
       "              3., 3., 0., 0., 1., 1., 2., 0., 2., 1., 0., 0., 0., 0., 0., 0., 0.,\n",
       "              2., 0., 1., 0., 0., 2., 0., 0., 1., 1., 1., 2., 3., 1., 0., 2., 2.,\n",
       "              2., 0., 1., 1., 1., 0., 0., 0., 1., 0., 0., 2., 0., 0., 0., 3., 0.,\n",
       "              1., 1., 1., 5., 0., 1., 0., 2., 1., 4., 2., 3., 0., 1., 1., 0., 0.,\n",
       "              0., 0., 0., 1., 0., 0., 2., 0., 1., 3., 2., 0., 0., 0., 1.])       ,\n",
       "       array([0., 0., 1., 2., 0., 1., 2., 0., 1., 2., 1., 0., 0., 0., 1., 1., 1.,\n",
       "              0., 0., 0., 1., 1., 0., 1., 0., 1., 0., 1., 0., 0., 0., 0., 1., 0.,\n",
       "              0., 0., 0., 1., 0., 0., 0., 0., 0., 0., 0., 0., 1., 0., 1., 0., 2.,\n",
       "              1., 0., 0., 1., 0., 0., 0., 0., 0., 1., 0., 0., 0., 0., 0., 1., 0.,\n",
       "              2., 0., 1., 1., 0., 0., 0., 0., 0., 2., 0., 0., 0., 0., 1., 1., 0.,\n",
       "              0., 0., 1., 1., 0., 0., 0., 1., 2., 0., 0., 0., 0., 2., 1.])       ,\n",
       "       array([1., 2., 1., 2., 0., 2., 0., 0., 1., 2., 2., 0., 1., 1., 0., 2., 0.,\n",
       "              4., 0., 1., 1., 2., 0., 0., 1., 0., 0., 1., 0., 0., 0., 0., 0., 4.,\n",
       "              1., 1., 0., 3., 1., 0., 0., 0., 1., 0., 0., 0., 0., 0., 0., 0., 1.,\n",
       "              0., 2., 1., 0., 2., 0., 0., 2., 1., 1., 1., 0., 0., 0., 1., 0., 1.,\n",
       "              1., 0., 0., 0., 4., 2., 0., 0., 1., 0., 0., 0., 0., 0., 0., 0., 1.,\n",
       "              0., 2., 0., 0., 0., 7., 0., 0., 1., 1., 0., 1., 2., 0., 1.])       ,\n",
       "       ...,\n",
       "       array([1., 1., 4., 1., 0., 1., 1., 1., 3., 0., 9., 0., 0., 2., 1., 1., 0.,\n",
       "              0., 3., 0., 2., 1., 1., 1., 1., 3., 1., 0., 3., 0., 1., 1., 0., 1.,\n",
       "              1., 0., 1., 1., 0., 0., 1., 1., 0., 0., 1., 1., 2., 1., 2., 0., 0.,\n",
       "              1., 0., 0., 3., 1., 1., 0., 2., 2., 1., 1., 1., 0., 2., 1., 0., 0.,\n",
       "              4., 0., 1., 1., 0., 0., 0., 0., 1., 2., 1., 0., 0., 0., 0., 2., 0.,\n",
       "              2., 0., 5., 2., 0., 0., 1., 1., 0., 0., 1., 0., 0., 0., 0.])       ,\n",
       "       array([2., 3., 0., 1., 0., 2., 0., 3., 1., 2., 2., 1., 1., 0., 3., 2., 0.,\n",
       "              8., 0., 3., 1., 1., 0., 3., 1., 1., 2., 2., 2., 0., 0., 1., 3., 3.,\n",
       "              2., 1., 0., 3., 0., 3., 4., 2., 1., 1., 2., 1., 0., 0., 0., 0., 1.,\n",
       "              2., 2., 2., 3., 0., 2., 5., 1., 0., 3., 0., 0., 4., 1., 2., 2., 1.,\n",
       "              0., 0., 1., 4., 1., 1., 2., 1., 2., 2., 0., 1., 1., 0., 3., 1., 0.,\n",
       "              0., 0., 1., 1., 1., 1., 3., 0., 0., 0., 0., 2., 0., 0., 1.])       ,\n",
       "       array([0., 0., 0., 0., 0., 2., 0., 0., 2., 1., 7., 0., 1., 0., 0., 0., 0.,\n",
       "              0., 1., 2., 3., 2., 1., 1., 0., 1., 2., 0., 0., 0., 1., 3., 0., 1.,\n",
       "              0., 0., 0., 0., 0., 2., 1., 0., 2., 4., 1., 0., 0., 1., 2., 0., 0.,\n",
       "              1., 0., 1., 2., 1., 0., 0., 0., 0., 1., 0., 0., 0., 2., 0., 1., 1.,\n",
       "              1., 0., 2., 1., 2., 0., 2., 1., 1., 0., 1., 1., 0., 0., 0., 2., 0.,\n",
       "              0., 0., 0., 0., 1., 2., 1., 0., 1., 0., 0., 0., 1., 1., 0.])       ],\n",
       "      dtype=object)"
      ]
     },
     "execution_count": 17,
     "metadata": {},
     "output_type": "execute_result"
    }
   ],
   "source": []
  },
  {
   "cell_type": "code",
   "execution_count": 20,
   "metadata": {},
   "outputs": [],
   "source": [
    "\n",
    "\n",
    "# Compute document frequency using pandas\n",
    "df_document_frequency_ORB = df['histogram_ORB'].apply(lambda x: (x > 0).sum())\n",
    "df_document_frequency_SIFT = df['histogram_SIFT'].apply(lambda x: (x > 0).sum())\n",
    "\n",
    "# Compute IDF\n",
    "N = len(df)\n",
    "idf_ORB = np.log((N + 1) / (df_document_frequency_ORB + 1)) + 1\n",
    "idf_SIFT = np.log((N + 1) / (df_document_frequency_ORB + 1)) + 1\n",
    "\n",
    "# Apply the function to create histograms with IDF weighting\n",
    "df['histogram_ORB'] = df['histogram_ORB'] * idf_ORB\n",
    "df['histogram_SIFT'] = df['histogram_SIFT'] * idf_SIFT\n"
   ]
  },
  {
   "cell_type": "code",
   "execution_count": 22,
   "metadata": {},
   "outputs": [
    {
     "data": {
      "image/png": "[encoded data removed]",
      "text/plain": [
       "<Figure size 640x480 with 1 Axes>"
      ]
     },
     "metadata": {},
     "output_type": "display_data"
    }
   ],
   "source": [
    "# Drop the original keypoints and descriptors columns\n",
    "# df.drop(columns=['keypoints', 'descriptors'], inplace=True)\n",
    "\n",
    "# Display the first histogram to verify\n",
    "if not df.empty:\n",
    "    first_user = df.index[0]\n",
    "    first_histogram = df.iloc[0]['histogram_ORB']\n",
    "    plt.bar(range(num_clusters), first_histogram)\n",
    "    plt.title(f'Visual Words Histogram for User: {first_user}')\n",
    "    plt.xlabel('Visual Word Index')\n",
    "    plt.ylabel('Frequency')\n",
    "    plt.show()"
   ]
  }
 ],
 "metadata": {
  "kernelspec": {
   "display_name": "Python 3",
   "language": "python",
   "name": "python3"
  },
  "language_info": {
   "codemirror_mode": {
    "name": "ipython",
    "version": 3
   },
   "file_extension": ".py",
   "mimetype": "text/x-python",
   "name": "python",
   "nbconvert_exporter": "python",
   "pygments_lexer": "ipython3",
   "version": "3.12.1"
  }
 },
 "nbformat": 4,
 "nbformat_minor": 2
}
