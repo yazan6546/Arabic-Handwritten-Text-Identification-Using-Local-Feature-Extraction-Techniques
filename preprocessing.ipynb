{
 "cells": [
  {
   "cell_type": "code",
   "execution_count": 1,
   "id": "initial_id",
   "metadata": {
    "ExecuteTime": {
     "end_time": "2024-12-17T06:44:55.336287Z",
     "start_time": "2024-12-17T06:44:55.064909Z"
    },
    "collapsed": true
   },
   "outputs": [],
   "source": [
    "import os,cv2,random,numpy as np"
   ]
  },
  {
   "cell_type": "code",
   "execution_count": 2,
   "id": "3c4c1ba676dbb629",
   "metadata": {
    "ExecuteTime": {
     "end_time": "2024-12-17T06:44:57.007083Z",
     "start_time": "2024-12-17T06:44:56.979139Z"
    }
   },
   "outputs": [],
   "source": [
    "# Function to load images from a directory\n",
    "def load_images_from_directory(directory):\n",
    "    data = []\n",
    "    for root, _, files in os.walk(directory):\n",
    "        for filename in files:\n",
    "            if filename.endswith(\".jpg\") or filename.endswith(\".png\"):\n",
    "                img = cv2.imread(os.path.join(root, filename), cv2.IMREAD_GRAYSCALE)\n",
    "                if img is not None:\n",
    "                    data.append({'filename': filename, 'image': img})\n",
    "    return data\n"
   ]
  },
  {
   "cell_type": "code",
   "execution_count": 3,
   "id": "4b0629155135ebc9",
   "metadata": {
    "ExecuteTime": {
     "end_time": "2024-12-17T06:44:59.486500Z",
     "start_time": "2024-12-17T06:44:59.466214Z"
    }
   },
   "outputs": [],
   "source": [
    "import os\n",
    "import cv2\n",
    "import random\n",
    "\n",
    "def apply_rotations_and_save(input_dir=\"data/preprocess\", output_dir=\"data/rotate\", rotation_angles=[45, 90, 135]):\n",
    "    # Traverse each image in the input directory\n",
    "    for root, _, files in os.walk(input_dir):\n",
    "        for filename in files:\n",
    "            if filename.endswith(('.png', '.jpg', '.jpeg')):\n",
    "                # Read the image\n",
    "                img_path = os.path.join(root, filename)\n",
    "                img = cv2.imread(img_path, cv2.IMREAD_GRAYSCALE)\n",
    "\n",
    "                # Apply rotations and save\n",
    "                for angle in rotation_angles:\n",
    "                    # Get the image center and dimensions\n",
    "                    h, w = img.shape\n",
    "                    center = (w // 2, h // 2)\n",
    "\n",
    "                    # Calculate the rotation matrix\n",
    "                    rotation_matrix = cv2.getRotationMatrix2D(center, angle, 1.0)\n",
    "\n",
    "                    # Compute the new bounding box dimensions to prevent cropping\n",
    "                    abs_cos = abs(rotation_matrix[0, 0])\n",
    "                    abs_sin = abs(rotation_matrix[0, 1])\n",
    "                    new_w = int(2 * h * abs_sin + w * abs_cos)\n",
    "                    new_h = int(2 * h * abs_cos + w * abs_sin)\n",
    "\n",
    "                    # Adjust the rotation matrix to account for the translation\n",
    "                    rotation_matrix[0, 2] += (new_w / 2) - center[0]\n",
    "                    rotation_matrix[1, 2] += (new_h / 2) - center[1]\n",
    "\n",
    "                    # Perform the rotation with the new bounding box size\n",
    "                    rotated_img = cv2.warpAffine(img, rotation_matrix, (new_w, new_h), flags=cv2.INTER_LINEAR, borderMode=cv2.BORDER_CONSTANT, borderValue=255)\n",
    "\n",
    "                    # Resize the rotated image back to the original dimensions\n",
    "                    resized_img = cv2.resize(rotated_img, (w, h))\n",
    "\n",
    "                    # Save the image in an angle-based folder\n",
    "                    angle_dir = os.path.join(output_dir, f\"{angle}\")\n",
    "                    os.makedirs(angle_dir, exist_ok=True)\n",
    "\n",
    "                    output_path = os.path.join(angle_dir, filename)\n",
    "                    cv2.imwrite(output_path, resized_img)\n",
    "\n",
    "    print(f\"Images saved to {output_dir}\")"
   ]
  },
  {
   "cell_type": "code",
   "execution_count": 5,
   "id": "787eb2a0c4c6b6e6",
   "metadata": {
    "ExecuteTime": {
     "end_time": "2024-12-17T06:45:04.168725Z",
     "start_time": "2024-12-17T06:45:04.158724Z"
    }
   },
   "outputs": [],
   "source": [
    "def add_gaussian_noise(image, mean=0, std=10):\n",
    "    noise = np.random.normal(mean, std, image.shape).astype(np.float32)\n",
    "    noisy_image = image.astype(np.float32) + noise\n",
    "\n",
    "    # Clip the pixel values to be in the valid range [0, 255]\n",
    "    noisy_image = np.clip(noisy_image, 0, 255).astype(np.uint8)\n",
    "\n",
    "    return noisy_image"
   ]
  },
  {
   "cell_type": "code",
   "execution_count": 6,
   "id": "d4e533bb20fda954",
   "metadata": {
    "ExecuteTime": {
     "end_time": "2024-12-17T06:45:05.962156Z",
     "start_time": "2024-12-17T06:45:05.947087Z"
    }
   },
   "outputs": [],
   "source": [
    "import os\n",
    "import cv2\n",
    "import numpy as np\n",
    "\n",
    "def apply_noise_and_save(input_dir=\"data/preprocess\", output_dir=\"data/noise\", noise_levels=[10, 50]):\n",
    "    # Traverse each image in the input directory\n",
    "    for root, _, files in os.walk(input_dir):\n",
    "        for filename in files:\n",
    "            if filename.endswith(('.png', '.jpg', '.jpeg')):\n",
    "                # Read the image\n",
    "                img_path = os.path.join(root, filename)\n",
    "                img = cv2.imread(img_path, cv2.IMREAD_GRAYSCALE)\n",
    "\n",
    "                # Apply noise and save\n",
    "                for noise_level in noise_levels:\n",
    "                    # Generate Gaussian noise\n",
    "                    noise = np.random.normal(0, noise_level, img.shape).astype(np.uint8)\n",
    "\n",
    "                    # Add the noise to the image\n",
    "                    noisy_img = cv2.add(img, noise)\n",
    "\n",
    "                    # Save the noisy image in a noise-level-based folder\n",
    "                    noise_dir = os.path.join(output_dir, f\"noise_{noise_level}\")\n",
    "                    os.makedirs(noise_dir, exist_ok=True)\n",
    "\n",
    "                    output_path = os.path.join(noise_dir, filename)\n",
    "                    cv2.imwrite(output_path, noisy_img)\n",
    "\n",
    "    print(f\"Noisy images saved to {output_dir}\")"
   ]
  },
  {
   "cell_type": "code",
   "execution_count": 8,
   "id": "d488c568add06e8e",
   "metadata": {
    "ExecuteTime": {
     "end_time": "2024-12-17T06:45:09.522477Z",
     "start_time": "2024-12-17T06:45:09.508797Z"
    }
   },
   "outputs": [],
   "source": [
    "def scale_image(image, scale):\n",
    "    \"\"\"\n",
    "    Scale an image to a specified factor.\n",
    "\n",
    "    Parameters:\n",
    "        image (numpy.ndarray): The input image.\n",
    "        scale (float): Scaling factor (e.g., 0.5 for half size, 1.5 for 1.5x size).\n",
    "\n",
    "    Returns:\n",
    "        numpy.ndarray: Scaled image.\n",
    "    \"\"\"\n",
    "    h, w = image.shape[:2]  # Original height and width\n",
    "    new_w = int(w * scale)\n",
    "    new_h = int(h * scale)\n",
    "\n",
    "    # Resize the image to the new dimensions\n",
    "    scaled_image = cv2.resize(image, (new_w, new_h), interpolation=cv2.INTER_LINEAR)\n",
    "    return scaled_image"
   ]
  },
  {
   "cell_type": "code",
   "execution_count": 9,
   "id": "9656ae8de84d5150",
   "metadata": {
    "ExecuteTime": {
     "end_time": "2024-12-17T06:45:12.477751Z",
     "start_time": "2024-12-17T06:45:12.462977Z"
    }
   },
   "outputs": [],
   "source": [
    "def apply_scaling_and_save(images_data, output_dir=\"output_scaling\", num_per_user=5, scaling_factors=[0.5, 0.75, 1.25, 1.5]):\n",
    "    user_data = {}\n",
    "\n",
    "    # Group images by user\n",
    "    for img_data in images_data:\n",
    "        user_id = img_data['user_id']\n",
    "        if user_id not in user_data:\n",
    "            user_data[user_id] = []\n",
    "        user_data[user_id].append(img_data)\n",
    "\n",
    "    # Apply scaling and save\n",
    "    for user_id, images in user_data.items():\n",
    "        # Select `num_per_user` images for each user\n",
    "        selected_images = random.sample(images, min(len(images), num_per_user))\n",
    "\n",
    "        for img_data in selAected_images:\n",
    "            img = img_data['image']\n",
    "            filename = img_data['filename']\n",
    "\n",
    "            # Randomly select a scaling factor from the provided list\n",
    "            scale = random.choice(scaling_factors)\n",
    "\n",
    "            # Apply scaling\n",
    "            scaled_img = scale_image(img, scale)\n",
    "\n",
    "            # Save the scaled image in a scale-based folder\n",
    "            scale_dir = os.path.join(output_dir, f\"scale_{str(scale).replace('.', '_')}\")\n",
    "            os.makedirs(scale_dir, exist_ok=True)\n",
    "\n",
    "            output_path = os.path.join(scale_dir, filename)\n",
    "            cv2.imwrite(output_path, scaled_img)\n",
    "\n",
    "    print(f\"Scaled images saved to {output_dir}\")"
   ]
  },
  {
   "cell_type": "code",
   "execution_count": 10,
   "id": "4777f9d46b8a6648",
   "metadata": {
    "ExecuteTime": {
     "end_time": "2024-12-17T06:45:22.882248Z",
     "start_time": "2024-12-17T06:45:15.717953Z"
    }
   },
   "outputs": [
    {
     "name": "stdout",
     "output_type": "stream",
     "text": [
      "Scaled images saved to preprocessing/scaled_images\n"
     ]
    }
   ],
   "source": [
    "images_data = load_images_from_directory(\"data/isolated_words_per_user\", target_size=(256, 128))\n",
    "apply_scaling_and_save(images_data, output_dir=\"preprocessing/scaled_images\", num_per_user=5, scaling_factors=[0.5, 0.75, 1.25, 1.5])"
   ]
  }
 ],
 "metadata": {
  "kernelspec": {
   "display_name": "Python 3",
   "language": "python",
   "name": "python3"
  },
  "language_info": {
   "codemirror_mode": {
    "name": "ipython",
    "version": 3
   },
   "file_extension": ".py",
   "mimetype": "text/x-python",
   "name": "python",
   "nbconvert_exporter": "python",
   "pygments_lexer": "ipython3",
   "version": "3.12.1"
  }
 },
 "nbformat": 4,
 "nbformat_minor": 5
}
