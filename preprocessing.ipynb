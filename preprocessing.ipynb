{
 "cells": [
  {
   "cell_type": "code",
   "id": "initial_id",
   "metadata": {
    "collapsed": true,
    "ExecuteTime": {
     "end_time": "2024-12-17T06:31:43.221400Z",
     "start_time": "2024-12-17T06:31:42.359608Z"
    }
   },
   "source": "import os,cv2,random,numpy as np",
   "outputs": [],
   "execution_count": 1
  },
  {
   "metadata": {
    "ExecuteTime": {
     "end_time": "2024-12-17T06:31:51.382790Z",
     "start_time": "2024-12-17T06:31:51.364787Z"
    }
   },
   "cell_type": "code",
   "source": [
    "def load_images_from_directory(directory, target_size=(256, 128)):\n",
    "    \"\"\"\n",
    "    Load images from a directory and return a list of dictionaries containing filename, image, and filepath.\n",
    "    \"\"\"\n",
    "    data = []\n",
    "\n",
    "    for root, dirs, _ in os.walk(directory):\n",
    "        for _, _, files in os.walk(root):\n",
    "            for filename in files:\n",
    "                if filename.endswith(\".jpg\") or filename.endswith(\".png\"):\n",
    "                    filepath = os.path.join(root, filename)\n",
    "                    img = cv2.imread(filepath, cv2.IMREAD_GRAYSCALE)\n",
    "                    if img is not None:\n",
    "                        img_resized = cv2.resize(img, target_size)\n",
    "                        user_id = filename.split('_')[0]  # Extract user ID from the filename\n",
    "\n",
    "                        data.append({'filename': filename, 'user_id': user_id, 'image': img_resized, 'filepath': filepath})\n",
    "\n",
    "    return data\n"
   ],
   "id": "3c4c1ba676dbb629",
   "outputs": [],
   "execution_count": 3
  },
  {
   "metadata": {
    "ExecuteTime": {
     "end_time": "2024-12-17T06:31:54.229343Z",
     "start_time": "2024-12-17T06:31:54.204341Z"
    }
   },
   "cell_type": "code",
   "source": [
    "def apply_rotations_and_save(images_data, output_dir=\"output\", num_per_user=5, rotation_angles=[45, 90, 135]):\n",
    "    user_data = {}\n",
    "\n",
    "    # Group images by user\n",
    "    for img_data in images_data:\n",
    "        user_id = img_data['user_id']\n",
    "        if user_id not in user_data:\n",
    "            user_data[user_id] = []\n",
    "        user_data[user_id].append(img_data)\n",
    "\n",
    "    # Apply rotations and save\n",
    "    for user_id, images in user_data.items():\n",
    "        selected_images = random.sample(images, min(len(images), num_per_user))\n",
    "\n",
    "        for img_data in selected_images:\n",
    "            img = img_data['image']\n",
    "            filename = img_data['filename']\n",
    "\n",
    "            # Randomly select an angle from the provided list of angles\n",
    "            angle = random.choice(rotation_angles)\n",
    "\n",
    "            # Get the image center and dimensions\n",
    "            h, w = img.shape\n",
    "            center = (w // 2, h // 2)\n",
    "\n",
    "            # Calculate the rotation matrix\n",
    "            rotation_matrix = cv2.getRotationMatrix2D(center, angle, 1.0)\n",
    "\n",
    "            # Compute the new bounding box dimensions to prevent cropping\n",
    "            abs_cos = abs(rotation_matrix[0, 0])\n",
    "            abs_sin = abs(rotation_matrix[0, 1])\n",
    "            new_w = int(2*h * abs_sin + w * abs_cos)\n",
    "            new_h = int(2*h * abs_cos + w * abs_sin)\n",
    "\n",
    "            # Adjust the rotation matrix to account for the translation\n",
    "            rotation_matrix[0, 2] += (new_w / 2) - center[0]\n",
    "            rotation_matrix[1, 2] += (new_h / 2) - center[1]\n",
    "\n",
    "            # Perform the rotation with the new bounding box size\n",
    "            rotated_img = cv2.warpAffine(img, rotation_matrix, (new_w, new_h), flags=cv2.INTER_LINEAR, borderMode=cv2.BORDER_CONSTANT, borderValue=255)\n",
    "\n",
    "            # Resize the rotated image back to the original dimensions\n",
    "            resized_img = cv2.resize(rotated_img, (w, h))\n",
    "\n",
    "            # Save the image in an angle-based folder\n",
    "            angle_dir = os.path.join(output_dir, f\"angle_{angle}\")\n",
    "            os.makedirs(angle_dir, exist_ok=True)\n",
    "\n",
    "            output_path = os.path.join(angle_dir, filename)\n",
    "            cv2.imwrite(output_path, resized_img)\n",
    "\n",
    "    print(f\"Images saved to {output_dir}\")"
   ],
   "id": "4b0629155135ebc9",
   "outputs": [],
   "execution_count": 4
  },
  {
   "metadata": {
    "ExecuteTime": {
     "end_time": "2024-12-17T06:35:26.943762Z",
     "start_time": "2024-12-17T06:35:19.403506Z"
    }
   },
   "cell_type": "code",
   "source": [
    "# Define paths\n",
    "directory = \"data/isolated_words_per_user\"\n",
    "output_dir = \"preprocessing/rotated_images\"\n",
    "\n",
    "# Load images\n",
    "loaded_data = load_images_from_directory(directory, target_size=(256, 128))\n",
    "\n",
    "rotation_angles = [45, 90, 135]\n",
    "apply_rotations_and_save(loaded_data, output_dir=output_dir, num_per_user=5, rotation_angles=rotation_angles)\n",
    "\n"
   ],
   "id": "6881b348988e3d",
   "outputs": [
    {
     "name": "stdout",
     "output_type": "stream",
     "text": [
      "Images saved to preprocessing/rotated_images\n"
     ]
    }
   ],
   "execution_count": 8
  },
  {
   "metadata": {
    "ExecuteTime": {
     "end_time": "2024-12-17T06:31:59.412891Z",
     "start_time": "2024-12-17T06:31:59.397882Z"
    }
   },
   "cell_type": "code",
   "source": [
    "def add_gaussian_noise(image, mean=0, std=10):\n",
    "    noise = np.random.normal(mean, std, image.shape).astype(np.float32)\n",
    "    noisy_image = image.astype(np.float32) + noise\n",
    "\n",
    "    # Clip the pixel values to be in the valid range [0, 255]\n",
    "    noisy_image = np.clip(noisy_image, 0, 255).astype(np.uint8)\n",
    "\n",
    "    return noisy_image"
   ],
   "id": "787eb2a0c4c6b6e6",
   "outputs": [],
   "execution_count": 5
  },
  {
   "metadata": {
    "ExecuteTime": {
     "end_time": "2024-12-17T06:32:27.079199Z",
     "start_time": "2024-12-17T06:32:27.053195Z"
    }
   },
   "cell_type": "code",
   "source": [
    "def apply_noise_and_save(images_data, output_dir=\"output_noise\", num_per_user=5, noise_levels=[10, 20, 30]):\n",
    "    user_data = {}\n",
    "\n",
    "    # Group images by user\n",
    "    for img_data in images_data:\n",
    "        user_id = img_data['user_id']\n",
    "        if user_id not in user_data:\n",
    "            user_data[user_id] = []\n",
    "        user_data[user_id].append(img_data)\n",
    "\n",
    "    # Apply noise and save\n",
    "    for user_id, images in user_data.items():\n",
    "        # Select `num_per_user` images for each user\n",
    "        selected_images = random.sample(images, min(len(images), num_per_user))\n",
    "\n",
    "        for img_data in selected_images:\n",
    "            img = img_data['image']\n",
    "            filename = img_data['filename']\n",
    "\n",
    "            # Randomly select a noise level from the provided list\n",
    "            noise_std = random.choice(noise_levels)\n",
    "\n",
    "            # Add Gaussian noise to the image\n",
    "            noisy_img = add_gaussian_noise(img, mean=0, std=noise_std)\n",
    "\n",
    "            # Save the noisy image in a noise-level-based folder\n",
    "            noise_dir = os.path.join(output_dir, f\"noise_{noise_std}\")\n",
    "            os.makedirs(noise_dir, exist_ok=True)\n",
    "\n",
    "            output_path = os.path.join(noise_dir, filename)\n",
    "            cv2.imwrite(output_path, noisy_img)\n",
    "\n",
    "    print(f\"Noisy images saved to {output_dir}\")"
   ],
   "id": "d4e533bb20fda954",
   "outputs": [],
   "execution_count": 6
  },
  {
   "metadata": {
    "ExecuteTime": {
     "end_time": "2024-12-17T06:34:49.176502Z",
     "start_time": "2024-12-17T06:34:32.444456Z"
    }
   },
   "cell_type": "code",
   "source": [
    "images_data = load_images_from_directory(\"data/isolated_words_per_user\", target_size=(256, 128))\n",
    "\n",
    "# Apply noise and save\n",
    "apply_noise_and_save(images_data, output_dir=\"preprocessing/noisy_images\", num_per_user=5, noise_levels=[10, 20, 30])"
   ],
   "id": "3f38cf7040e88a8e",
   "outputs": [
    {
     "name": "stdout",
     "output_type": "stream",
     "text": [
      "Noisy images saved to preprocessing/noisy_images\n"
     ]
    }
   ],
   "execution_count": 7
  }
 ],
 "metadata": {
  "kernelspec": {
   "display_name": "Python 3",
   "language": "python",
   "name": "python3"
  },
  "language_info": {
   "codemirror_mode": {
    "name": "ipython",
    "version": 2
   },
   "file_extension": ".py",
   "mimetype": "text/x-python",
   "name": "python",
   "nbconvert_exporter": "python",
   "pygments_lexer": "ipython2",
   "version": "2.7.6"
  }
 },
 "nbformat": 4,
 "nbformat_minor": 5
}
