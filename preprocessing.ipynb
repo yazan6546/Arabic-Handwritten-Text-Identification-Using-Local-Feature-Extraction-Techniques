{
 "cells": [
  {
   "cell_type": "code",
   "id": "initial_id",
   "metadata": {
    "collapsed": true,
    "ExecuteTime": {
     "end_time": "2024-12-16T22:13:19.787477Z",
     "start_time": "2024-12-16T22:13:19.779241Z"
    }
   },
   "source": "import os,cv2,random",
   "outputs": [],
   "execution_count": 5
  },
  {
   "metadata": {
    "ExecuteTime": {
     "end_time": "2024-12-16T22:13:21.685723Z",
     "start_time": "2024-12-16T22:13:21.660190Z"
    }
   },
   "cell_type": "code",
   "source": [
    "import os\n",
    "import cv2\n",
    "\n",
    "def load_images_from_directory(directory, target_size=(256, 128)):\n",
    "    \"\"\"\n",
    "    Load images from a directory and return a list of dictionaries containing filename, image, and filepath.\n",
    "    \"\"\"\n",
    "    data = []\n",
    "\n",
    "    for root, dirs, _ in os.walk(directory):\n",
    "        for _, _, files in os.walk(root):\n",
    "            for filename in files:\n",
    "                if filename.endswith(\".jpg\") or filename.endswith(\".png\"):\n",
    "                    filepath = os.path.join(root, filename)\n",
    "                    img = cv2.imread(filepath, cv2.IMREAD_GRAYSCALE)\n",
    "                    if img is not None:\n",
    "                        img_resized = cv2.resize(img, target_size)\n",
    "                        user_id = filename.split('_')[0]  # Extract user ID from the filename\n",
    "\n",
    "                        data.append({'filename': filename, 'user_id': user_id, 'image': img_resized, 'filepath': filepath})\n",
    "\n",
    "    return data\n"
   ],
   "id": "3c4c1ba676dbb629",
   "outputs": [],
   "execution_count": 6
  },
  {
   "metadata": {
    "ExecuteTime": {
     "end_time": "2024-12-16T22:40:00.375517Z",
     "start_time": "2024-12-16T22:40:00.353393Z"
    }
   },
   "cell_type": "code",
   "source": [
    "def apply_rotations_and_save(images_data, output_dir=\"output\", num_per_user=5, rotation_angles=[45, 90, 135]):\n",
    "    user_data = {}\n",
    "\n",
    "    # Group images by user\n",
    "    for img_data in images_data:\n",
    "        user_id = img_data['user_id']\n",
    "        if user_id not in user_data:\n",
    "            user_data[user_id] = []\n",
    "        user_data[user_id].append(img_data)\n",
    "\n",
    "    # Apply rotations and save\n",
    "    for user_id, images in user_data.items():\n",
    "        selected_images = random.sample(images, min(len(images), num_per_user))\n",
    "\n",
    "        for img_data in selected_images:\n",
    "            img = img_data['image']\n",
    "            filename = img_data['filename']\n",
    "\n",
    "            # Randomly select an angle from the provided list of angles\n",
    "            angle = random.choice(rotation_angles)\n",
    "\n",
    "            # Get the image center and dimensions\n",
    "            h, w = img.shape\n",
    "            center = (w // 2, h // 2)\n",
    "\n",
    "            # Calculate the rotation matrix\n",
    "            rotation_matrix = cv2.getRotationMatrix2D(center, angle, 1.0)\n",
    "\n",
    "            # Compute the new bounding box dimensions to prevent cropping\n",
    "            abs_cos = abs(rotation_matrix[0, 0])\n",
    "            abs_sin = abs(rotation_matrix[0, 1])\n",
    "            new_w = int(2*h * abs_sin + w * abs_cos)\n",
    "            new_h = int(2*h * abs_cos + w * abs_sin)\n",
    "\n",
    "            # Adjust the rotation matrix to account for the translation\n",
    "            rotation_matrix[0, 2] += (new_w / 2) - center[0]\n",
    "            rotation_matrix[1, 2] += (new_h / 2) - center[1]\n",
    "\n",
    "            # Perform the rotation with the new bounding box size\n",
    "            rotated_img = cv2.warpAffine(img, rotation_matrix, (new_w, new_h), flags=cv2.INTER_LINEAR, borderMode=cv2.BORDER_CONSTANT, borderValue=255)\n",
    "\n",
    "            # Resize the rotated image back to the original dimensions\n",
    "            resized_img = cv2.resize(rotated_img, (w, h))\n",
    "\n",
    "            # Save the image in an angle-based folder\n",
    "            angle_dir = os.path.join(output_dir, f\"angle_{angle}\")\n",
    "            os.makedirs(angle_dir, exist_ok=True)\n",
    "\n",
    "            output_path = os.path.join(angle_dir, filename)\n",
    "            cv2.imwrite(output_path, resized_img)\n",
    "\n",
    "    print(f\"Images saved to {output_dir}\")"
   ],
   "id": "4b0629155135ebc9",
   "outputs": [],
   "execution_count": 17
  },
  {
   "metadata": {
    "ExecuteTime": {
     "end_time": "2024-12-16T22:40:14.884845Z",
     "start_time": "2024-12-16T22:40:07.285002Z"
    }
   },
   "cell_type": "code",
   "source": [
    "# Define paths\n",
    "directory = \"data/isolated_words_per_user\"\n",
    "output_dir = \"rotated_images\"\n",
    "\n",
    "# Load images\n",
    "loaded_data = load_images_from_directory(directory, target_size=(256, 128))\n",
    "\n",
    "rotation_angles = [45, 90, 135]\n",
    "apply_rotations_and_save(loaded_data, output_dir=output_dir, num_per_user=5, rotation_angles=rotation_angles)\n",
    "\n"
   ],
   "id": "6881b348988e3d",
   "outputs": [
    {
     "name": "stdout",
     "output_type": "stream",
     "text": [
      "Images saved to rotated_images\n"
     ]
    }
   ],
   "execution_count": 18
  }
 ],
 "metadata": {
  "kernelspec": {
   "display_name": "Python 3",
   "language": "python",
   "name": "python3"
  },
  "language_info": {
   "codemirror_mode": {
    "name": "ipython",
    "version": 2
   },
   "file_extension": ".py",
   "mimetype": "text/x-python",
   "name": "python",
   "nbconvert_exporter": "python",
   "pygments_lexer": "ipython2",
   "version": "2.7.6"
  }
 },
 "nbformat": 4,
 "nbformat_minor": 5
}
